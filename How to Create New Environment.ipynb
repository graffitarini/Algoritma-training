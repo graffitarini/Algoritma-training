{
 "cells": [
  {
   "cell_type": "markdown",
   "metadata": {},
   "source": [
    "Shortcut:\n",
    "    ctrl + enter untuk run cell\n",
    "    "
   ]
  },
  {
   "cell_type": "markdown",
   "metadata": {},
   "source": [
    "Langkah-langkah membuat environment baru:\n",
    "\n",
    "1. buka terminal\n",
    "2. ketik \"conda create -n nama\"\n",
    "3. validasi env dengan \"conda env list\""
   ]
  },
  {
   "cell_type": "markdown",
   "metadata": {},
   "source": [
    "Langkah-langkah mendaftarkan env baru ke jupyter notebook:\n",
    " 1. buka terminal\n",
    " 2. conda activate nama_env_baru\n",
    " 3. install library ipykernel di env baru dengan sintaks \"conda install ipkernel\" atau \"pip install ipkernel\"\n",
    " 4. daftarkan kernel env baru dengan sintaks 'python -m ipykernel install --user --name nama_env_baru'\n",
    " 5. restart Jupyter notebook dengan control + c atau buka tutup terminal\n",
    "    \n",
    "    "
   ]
  },
  {
   "cell_type": "markdown",
   "metadata": {},
   "source": [
    "Summary Day 1"
   ]
  },
  {
   "cell_type": "markdown",
   "metadata": {},
   "source": [
    "- Pengetahuan tentang DA (ada di slide)\n",
    "- Hubungan antara Anacona, Python, Jupyter Notebook\n",
    "- Konsep Library, Install Library\n",
    "- Konsep environment, membuat environment baru"
   ]
  },
  {
   "cell_type": "code",
   "execution_count": null,
   "metadata": {},
   "outputs": [],
   "source": []
  }
 ],
 "metadata": {
  "kernelspec": {
   "display_name": "Python 3",
   "language": "python",
   "name": "python3"
  },
  "language_info": {
   "codemirror_mode": {
    "name": "ipython",
    "version": 3
   },
   "file_extension": ".py",
   "mimetype": "text/x-python",
   "name": "python",
   "nbconvert_exporter": "python",
   "pygments_lexer": "ipython3",
   "version": "3.8.3"
  }
 },
 "nbformat": 4,
 "nbformat_minor": 4
}
